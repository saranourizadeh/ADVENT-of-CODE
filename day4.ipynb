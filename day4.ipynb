{
 "cells": [
  {
   "cell_type": "code",
   "execution_count": 1,
   "metadata": {},
   "outputs": [],
   "source": [
    "import pandas as pd"
   ]
  },
  {
   "cell_type": "code",
   "execution_count": 2,
   "metadata": {},
   "outputs": [],
   "source": [
    "\n",
    "data =  open('./data/4.txt')\n"
   ]
  },
  {
   "cell_type": "code",
   "execution_count": 3,
   "metadata": {},
   "outputs": [],
   "source": [
    "df = data.read()"
   ]
  },
  {
   "cell_type": "code",
   "execution_count": 4,
   "metadata": {},
   "outputs": [
    {
     "data": {
      "text/plain": [
       "'Card   1: 52 74  9  7 90 77 55 97 31 66 | 29 80 38 92 54 28 36 17 81 19 96 24 64 90 69 86 37  1 94 31 13 84 23 68 58'"
      ]
     },
     "execution_count": 4,
     "metadata": {},
     "output_type": "execute_result"
    }
   ],
   "source": [
    "#each card line\n",
    "df.split('\\n')[0]"
   ]
  },
  {
   "cell_type": "code",
   "execution_count": 5,
   "metadata": {},
   "outputs": [
    {
     "data": {
      "text/plain": [
       "'1'"
      ]
     },
     "execution_count": 5,
     "metadata": {},
     "output_type": "execute_result"
    }
   ],
   "source": [
    "##play number\n",
    "df.split('\\n')[0].split('|')[0].split(':')[0].split()[1]"
   ]
  },
  {
   "cell_type": "code",
   "execution_count": 6,
   "metadata": {},
   "outputs": [
    {
     "data": {
      "text/plain": [
       "['52', '74', '9', '7', '90', '77', '55', '97', '31', '66']"
      ]
     },
     "execution_count": 6,
     "metadata": {},
     "output_type": "execute_result"
    }
   ],
   "source": [
    "#winning part\n",
    "df.split('\\n')[0].split('|')[0].split(':')[1].split()"
   ]
  },
  {
   "cell_type": "code",
   "execution_count": 7,
   "metadata": {},
   "outputs": [
    {
     "data": {
      "text/plain": [
       "['29',\n",
       " '80',\n",
       " '38',\n",
       " '92',\n",
       " '54',\n",
       " '28',\n",
       " '36',\n",
       " '17',\n",
       " '81',\n",
       " '19',\n",
       " '96',\n",
       " '24',\n",
       " '64',\n",
       " '90',\n",
       " '69',\n",
       " '86',\n",
       " '37',\n",
       " '1',\n",
       " '94',\n",
       " '31',\n",
       " '13',\n",
       " '84',\n",
       " '23',\n",
       " '68',\n",
       " '58']"
      ]
     },
     "execution_count": 7,
     "metadata": {},
     "output_type": "execute_result"
    }
   ],
   "source": [
    "#play part\n",
    "df.split('\\n')[0].split('|')[1].split()"
   ]
  },
  {
   "cell_type": "code",
   "execution_count": 8,
   "metadata": {},
   "outputs": [
    {
     "name": "stdout",
     "output_type": "stream",
     "text": [
      "52\n",
      "74\n",
      "9\n",
      "7\n",
      "90\n",
      "77\n",
      "55\n",
      "97\n",
      "31\n",
      "66\n"
     ]
    }
   ],
   "source": [
    "num = 0\n",
    "for win in df.split('\\n')[0].split('|')[0].split(':')[1].split():\n",
    "    print(win)\n",
    "    if win in df.split('\\n')[0].split('|')[1].split():\n",
    "        num += 1\n"
   ]
  },
  {
   "cell_type": "code",
   "execution_count": 9,
   "metadata": {},
   "outputs": [],
   "source": [
    "def part(df):\n",
    "    sum = 0\n",
    "    for i in range(len(df.split('\\n'))-1):\n",
    "        winning = df.split('\\n')[i].split('|')[0].split(':')[1].split()\n",
    "        playing  = df.split('\\n')[i].split('|')[1].split()\n",
    "        num = 0\n",
    "        for win in winning:\n",
    "            if win in playing:\n",
    "                num += 1\n",
    "        print(num)\n",
    "        if num > 0 :\n",
    "\n",
    "            sum += (2 ** (num-1))\n",
    "\n",
    "\n",
    "    return sum"
   ]
  },
  {
   "cell_type": "code",
   "execution_count": 10,
   "metadata": {},
   "outputs": [
    {
     "name": "stdout",
     "output_type": "stream",
     "text": [
      "2\n",
      "0\n",
      "10\n",
      "10\n",
      "8\n",
      "7\n",
      "0\n",
      "10\n",
      "9\n",
      "8\n",
      "3\n",
      "5\n",
      "0\n",
      "3\n",
      "0\n",
      "3\n",
      "2\n",
      "0\n",
      "0\n",
      "10\n",
      "0\n",
      "8\n",
      "9\n",
      "9\n",
      "4\n",
      "1\n",
      "2\n",
      "2\n",
      "3\n",
      "1\n",
      "2\n",
      "1\n",
      "1\n",
      "0\n",
      "0\n",
      "2\n",
      "10\n",
      "10\n",
      "10\n",
      "5\n",
      "1\n",
      "10\n",
      "7\n",
      "3\n",
      "4\n",
      "0\n",
      "0\n",
      "5\n",
      "1\n",
      "3\n",
      "1\n",
      "1\n",
      "0\n",
      "0\n",
      "10\n",
      "8\n",
      "1\n",
      "0\n",
      "10\n",
      "3\n",
      "10\n",
      "7\n",
      "0\n",
      "0\n",
      "3\n",
      "1\n",
      "0\n",
      "2\n",
      "1\n",
      "0\n",
      "1\n",
      "0\n",
      "0\n",
      "8\n",
      "1\n",
      "7\n",
      "1\n",
      "2\n",
      "4\n",
      "3\n",
      "7\n",
      "3\n",
      "2\n",
      "3\n",
      "3\n",
      "0\n",
      "0\n",
      "0\n",
      "10\n",
      "10\n",
      "4\n",
      "8\n",
      "3\n",
      "2\n",
      "10\n",
      "10\n",
      "10\n",
      "8\n",
      "9\n",
      "3\n",
      "0\n",
      "1\n",
      "5\n",
      "6\n",
      "6\n",
      "4\n",
      "2\n",
      "1\n",
      "2\n",
      "1\n",
      "0\n",
      "9\n",
      "10\n",
      "10\n",
      "6\n",
      "7\n",
      "10\n",
      "10\n",
      "0\n",
      "3\n",
      "1\n",
      "6\n",
      "1\n",
      "1\n",
      "2\n",
      "1\n",
      "0\n",
      "0\n",
      "10\n",
      "10\n",
      "6\n",
      "8\n",
      "1\n",
      "10\n",
      "10\n",
      "2\n",
      "4\n",
      "5\n",
      "0\n",
      "1\n",
      "5\n",
      "3\n",
      "1\n",
      "1\n",
      "4\n",
      "0\n",
      "1\n",
      "1\n",
      "1\n",
      "0\n",
      "10\n",
      "2\n",
      "9\n",
      "4\n",
      "10\n",
      "3\n",
      "1\n",
      "0\n",
      "10\n",
      "5\n",
      "2\n",
      "3\n",
      "3\n",
      "0\n",
      "2\n",
      "6\n",
      "7\n",
      "2\n",
      "5\n",
      "3\n",
      "0\n",
      "0\n",
      "1\n",
      "0\n",
      "5\n",
      "10\n",
      "10\n",
      "9\n",
      "9\n",
      "10\n",
      "0\n",
      "10\n",
      "1\n",
      "10\n",
      "3\n",
      "10\n",
      "9\n",
      "6\n",
      "10\n",
      "1\n",
      "3\n",
      "1\n",
      "6\n",
      "4\n",
      "2\n",
      "3\n",
      "2\n",
      "0\n",
      "0\n"
     ]
    },
    {
     "data": {
      "text/plain": [
       "21821"
      ]
     },
     "execution_count": 10,
     "metadata": {},
     "output_type": "execute_result"
    }
   ],
   "source": [
    "part(df)"
   ]
  },
  {
   "cell_type": "code",
   "execution_count": 11,
   "metadata": {},
   "outputs": [
    {
     "data": {
      "text/plain": [
       "'Card   1: 52 74  9  7 90 77 55 97 31 66 | 29 80 38 92 54 28 36 17 81 19 96 24 64 90 69 86 37  1 94 31 13 84 23 68 58'"
      ]
     },
     "execution_count": 11,
     "metadata": {},
     "output_type": "execute_result"
    }
   ],
   "source": [
    "df.split('\\n')[0]"
   ]
  },
  {
   "cell_type": "code",
   "execution_count": 14,
   "metadata": {},
   "outputs": [],
   "source": [
    "def part2(df):\n",
    "    df2 = []\n",
    "\n",
    "    for i in range(len(df.split('\\n'))-1):\n",
    "        winning = df.split('\\n')[i].split('|')[0].split(':')[1].split()\n",
    "        playing  = df.split('\\n')[i].split('|')[1].split()\n",
    "        num = 0\n",
    "        for win in winning:\n",
    "            if win in playing:\n",
    "                num += 1\n",
    "        if num > 0 :\n",
    "            df2.append([winning, playing])\n",
    "            for j in range(i+1, i+num+1) :\n",
    "                winning = df.split('\\n')[j].split('|')[0].split(':')[1].split()\n",
    "                playing  = df.split('\\n')[j].split('|')[1].split()\n",
    "                df2.append([winning, playing])\n",
    "\n",
    "        else:\n",
    "            df2.append([winning,playing])\n",
    "\n",
    "\n",
    "\n",
    "    return df2"
   ]
  },
  {
   "cell_type": "code",
   "execution_count": 15,
   "metadata": {},
   "outputs": [],
   "source": [
    "df3 = part2(df)"
   ]
  },
  {
   "cell_type": "code",
   "execution_count": 16,
   "metadata": {},
   "outputs": [
    {
     "data": {
      "text/plain": [
       "1004"
      ]
     },
     "execution_count": 16,
     "metadata": {},
     "output_type": "execute_result"
    }
   ],
   "source": [
    "len(df3)"
   ]
  },
  {
   "cell_type": "code",
   "execution_count": 102,
   "metadata": {},
   "outputs": [
    {
     "data": {
      "text/plain": [
       "'Card   1: 52 74  9  7 90 77 55 97 31 66 '"
      ]
     },
     "execution_count": 102,
     "metadata": {},
     "output_type": "execute_result"
    }
   ],
   "source": [
    "df.split('\\n')[0].split('|')[0]"
   ]
  },
  {
   "cell_type": "code",
   "execution_count": 71,
   "metadata": {},
   "outputs": [],
   "source": [
    "d = {}\n",
    "for i in range(199):\n",
    "    d[i] = []"
   ]
  },
  {
   "cell_type": "code",
   "execution_count": null,
   "metadata": {},
   "outputs": [],
   "source": []
  },
  {
   "cell_type": "code",
   "execution_count": 72,
   "metadata": {},
   "outputs": [],
   "source": [
    "\n",
    "for i in range(len(df.split('\\n'))-1):\n",
    "\n",
    "    winning = df.split('\\n')[i].split('|')[0].split(':')[1].split()\n",
    "    playing  = df.split('\\n')[i].split('|')[1].split()\n",
    "    ##add itself as a first card to each dictionary\n",
    "    d[i].append( [winning,playing])\n",
    "\n",
    "    # num = 0\n",
    "    # for win in winning:\n",
    "    #     if win in playing:\n",
    "    #         num += 1\n",
    "    # if num > 0 :\n",
    "    #     for j in range(i+1, i+num+1) :\n",
    "    #             winning = df.split('\\n')[j].split('|')[0].split(':')[1].split()\n",
    "    #             playing  = df.split('\\n')[j].split('|')[1].split()\n",
    "\n",
    "    #             d[j].append([winning, playing])\n"
   ]
  },
  {
   "cell_type": "code",
   "execution_count": 73,
   "metadata": {},
   "outputs": [
    {
     "data": {
      "text/plain": [
       "1"
      ]
     },
     "execution_count": 73,
     "metadata": {},
     "output_type": "execute_result"
    }
   ],
   "source": [
    "len(d[110])"
   ]
  },
  {
   "cell_type": "code",
   "execution_count": 74,
   "metadata": {},
   "outputs": [],
   "source": [
    "# winning = df.split('\\n')[i].split('|')[0].split(':')[1].split()\n",
    "# playing  = df.split('\\n')[i].split('|')[1].split()\n",
    "# ##add itself as a first card to each dictionary\n",
    "# d[0].append( [winning,playing])\n",
    "\n",
    "for i in range(len(d)):\n",
    "    # print(\"i\",i)\n",
    "    k = len(d[i])\n",
    "    # print(\"k\", k)\n",
    "    winning = d[i][0][0]\n",
    "    playing = d[i][0][1]\n",
    "# print(winning)\n",
    "\n",
    "    num = 0\n",
    "    for win in winning:\n",
    "        if win in playing:\n",
    "            num += 1\n",
    "    # print(\"number of match:\" ,num)\n",
    "    if num > 0 :\n",
    "        # print('num', num)\n",
    "        for j in range(i+1, i+num+1) :\n",
    "            # print(\"j\",j)\n",
    "            winning = d[j][0][0]\n",
    "            playing  = d[j][0][1]\n",
    "            for s in range(k):\n",
    "                # print(\"s\",s)\n",
    "                # print('card number that will add:',j)\n",
    "                d[j].append([winning, playing])\n",
    "                # print(d[j])\n",
    "    # if i == 4:\n",
    "    #     break\n"
   ]
  },
  {
   "cell_type": "code",
   "execution_count": 80,
   "metadata": {},
   "outputs": [
    {
     "data": {
      "text/plain": [
       "7"
      ]
     },
     "execution_count": 80,
     "metadata": {},
     "output_type": "execute_result"
    }
   ],
   "source": [
    "len(d[38])\n",
    "# d[3]"
   ]
  },
  {
   "cell_type": "code",
   "execution_count": 81,
   "metadata": {},
   "outputs": [],
   "source": [
    "number_card = 0\n",
    "for i in range(199):\n",
    "    number_card += len(d[i])"
   ]
  },
  {
   "cell_type": "code",
   "execution_count": 82,
   "metadata": {},
   "outputs": [
    {
     "data": {
      "text/plain": [
       "5539496"
      ]
     },
     "execution_count": 82,
     "metadata": {},
     "output_type": "execute_result"
    }
   ],
   "source": [
    "number_card"
   ]
  },
  {
   "cell_type": "code",
   "execution_count": null,
   "metadata": {},
   "outputs": [],
   "source": []
  }
 ],
 "metadata": {
  "kernelspec": {
   "display_name": "lewagon",
   "language": "python",
   "name": "python3"
  },
  "language_info": {
   "codemirror_mode": {
    "name": "ipython",
    "version": 3
   },
   "file_extension": ".py",
   "mimetype": "text/x-python",
   "name": "python",
   "nbconvert_exporter": "python",
   "pygments_lexer": "ipython3",
   "version": "3.10.6"
  }
 },
 "nbformat": 4,
 "nbformat_minor": 2
}
