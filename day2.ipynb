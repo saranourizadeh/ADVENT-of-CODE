{
 "cells": [
  {
   "cell_type": "code",
   "execution_count": 1,
   "metadata": {},
   "outputs": [],
   "source": [
    "import pandas as pd"
   ]
  },
  {
   "cell_type": "code",
   "execution_count": 34,
   "metadata": {},
   "outputs": [],
   "source": [
    "data = open(\"data/2.txt\", 'r')"
   ]
  },
  {
   "cell_type": "code",
   "execution_count": 35,
   "metadata": {},
   "outputs": [],
   "source": [
    "df = data.read()"
   ]
  },
  {
   "cell_type": "code",
   "execution_count": 37,
   "metadata": {},
   "outputs": [
    {
     "data": {
      "text/plain": [
       "'G'"
      ]
     },
     "execution_count": 37,
     "metadata": {},
     "output_type": "execute_result"
    }
   ],
   "source": [
    "df.split()"
   ]
  },
  {
   "cell_type": "code",
   "execution_count": 40,
   "metadata": {},
   "outputs": [],
   "source": [
    "df = df.split('\\n')"
   ]
  },
  {
   "cell_type": "code",
   "execution_count": 51,
   "metadata": {},
   "outputs": [
    {
     "data": {
      "text/plain": [
       "['Game 1: 1 green, 4 blue',\n",
       " ' 1 blue, 2 green, 1 red',\n",
       " ' 1 red, 1 green, 2 blue',\n",
       " ' 1 green, 1 red',\n",
       " ' 1 green',\n",
       " ' 1 green, 1 blue, 1 red']"
      ]
     },
     "execution_count": 51,
     "metadata": {},
     "output_type": "execute_result"
    }
   ],
   "source": [
    "df[0].split(';')"
   ]
  },
  {
   "cell_type": "code",
   "execution_count": 52,
   "metadata": {},
   "outputs": [
    {
     "data": {
      "text/plain": [
       "['Game 3: 6 green, 5 blue, 9 red',\n",
       " ' 4 blue, 1 green, 13 red',\n",
       " ' 9 green, 14 red, 1 blue']"
      ]
     },
     "execution_count": 52,
     "metadata": {},
     "output_type": "execute_result"
    }
   ],
   "source": [
    "df[2].split(';')"
   ]
  },
  {
   "cell_type": "code",
   "execution_count": 83,
   "metadata": {},
   "outputs": [
    {
     "data": {
      "text/plain": [
       "'Game 1: 1 green, 4 blue; 1 blue, 2 green, 1 red; 1 red, 1 green, 2 blue; 1 green, 1 red; 1 green; 1 green, 1 blue, 1 red'"
      ]
     },
     "execution_count": 83,
     "metadata": {},
     "output_type": "execute_result"
    }
   ],
   "source": [
    "df[0]"
   ]
  },
  {
   "cell_type": "code",
   "execution_count": 93,
   "metadata": {},
   "outputs": [
    {
     "data": {
      "text/plain": [
       "[{'green': 2, 'blue': 4, 'red': 1},\n",
       " {'green': 10, 'blue': 18, 'red': 2},\n",
       " {'green': 9, 'blue': 5, 'red': 14},\n",
       " {'green': 14, 'blue': 10, 'red': 20},\n",
       " {'green': 8, 'blue': 15, 'red': 4},\n",
       " {'green': 10, 'blue': 6, 'red': 4},\n",
       " {'green': 14, 'blue': 5, 'red': 3},\n",
       " {'green': 5, 'blue': 5, 'red': 9},\n",
       " {'green': 12, 'blue': 8, 'red': 18},\n",
       " {'green': 8, 'blue': 2, 'red': 5},\n",
       " {'green': 10, 'blue': 10, 'red': 15},\n",
       " {'green': 4, 'blue': 13, 'red': 18},\n",
       " {'green': 3, 'blue': 7, 'red': 1},\n",
       " {'green': 4, 'blue': 18, 'red': 11},\n",
       " {'green': 3, 'blue': 10, 'red': 15},\n",
       " {'green': 3, 'blue': 2, 'red': 4},\n",
       " {'green': 2, 'blue': 14, 'red': 3},\n",
       " {'green': 2, 'blue': 8, 'red': 14},\n",
       " {'green': 18, 'blue': 11, 'red': 3},\n",
       " {'green': 10, 'blue': 4, 'red': 13},\n",
       " {'green': 14, 'blue': 8, 'red': 20},\n",
       " {'green': 6, 'blue': 11, 'red': 4},\n",
       " {'green': 17, 'blue': 2, 'red': 19},\n",
       " {'green': 1, 'blue': 1, 'red': 12},\n",
       " {'green': 11, 'blue': 14, 'red': 6},\n",
       " {'green': 13, 'blue': 13, 'red': 18},\n",
       " {'green': 3, 'blue': 12, 'red': 15},\n",
       " {'green': 9, 'blue': 5, 'red': 19},\n",
       " {'green': 10, 'blue': 6, 'red': 19},\n",
       " {'green': 1, 'blue': 12, 'red': 13},\n",
       " {'green': 11, 'blue': 18, 'red': 17},\n",
       " {'green': 17, 'blue': 7, 'red': 18},\n",
       " {'green': 3, 'blue': 16, 'red': 4},\n",
       " {'green': 10, 'blue': 15, 'red': 9},\n",
       " {'green': 12, 'blue': 10, 'red': 16},\n",
       " {'green': 9, 'blue': 7, 'red': 11},\n",
       " {'green': 19, 'blue': 14, 'red': 7},\n",
       " {'green': 5, 'blue': 13, 'red': 9},\n",
       " {'green': 5, 'blue': 6, 'red': 18},\n",
       " {'green': 11, 'blue': 20, 'red': 12},\n",
       " {'green': 2, 'blue': 2, 'red': 10},\n",
       " {'green': 6, 'blue': 3, 'red': 12},\n",
       " {'green': 4, 'blue': 2, 'red': 8},\n",
       " {'green': 13, 'blue': 4, 'red': 19},\n",
       " {'green': 6, 'blue': 10, 'red': 5},\n",
       " {'green': 10, 'blue': 12, 'red': 9},\n",
       " {'green': 3, 'blue': 2, 'red': 14},\n",
       " {'green': 14, 'blue': 13, 'red': 2},\n",
       " {'green': 5, 'blue': 10, 'red': 2},\n",
       " {'green': 10, 'blue': 3, 'red': 7},\n",
       " {'green': 15, 'blue': 11, 'red': 20},\n",
       " {'green': 12, 'blue': 3, 'red': 1},\n",
       " {'green': 16, 'blue': 12, 'red': 11},\n",
       " {'green': 11, 'blue': 9, 'red': 3},\n",
       " {'green': 4, 'blue': 13, 'red': 12},\n",
       " {'green': 15, 'blue': 12, 'red': 8},\n",
       " {'green': 20, 'blue': 14, 'red': 18},\n",
       " {'green': 18, 'blue': 15, 'red': 8},\n",
       " {'green': 17, 'blue': 3, 'red': 2},\n",
       " {'green': 13, 'blue': 4, 'red': 4},\n",
       " {'green': 1, 'blue': 10, 'red': 8},\n",
       " {'green': 4, 'blue': 8, 'red': 10},\n",
       " {'green': 6, 'blue': 5, 'red': 7},\n",
       " {'green': 5, 'blue': 20, 'red': 6},\n",
       " {'green': 20, 'blue': 9, 'red': 12},\n",
       " {'green': 4, 'blue': 13, 'red': 5},\n",
       " {'green': 18, 'blue': 16, 'red': 18},\n",
       " {'green': 7, 'blue': 1, 'red': 9},\n",
       " {'green': 12, 'blue': 13, 'red': 8},\n",
       " {'green': 11, 'blue': 14, 'red': 12},\n",
       " {'green': 2, 'blue': 10, 'red': 9},\n",
       " {'green': 4, 'blue': 6, 'red': 5},\n",
       " {'green': 7, 'blue': 1, 'red': 3},\n",
       " {'green': 4, 'blue': 8, 'red': 4},\n",
       " {'green': 14, 'blue': 12, 'red': 10},\n",
       " {'green': 2, 'blue': 1, 'red': 16},\n",
       " {'green': 12, 'blue': 15, 'red': 7},\n",
       " {'green': 15, 'blue': 11, 'red': 11},\n",
       " {'green': 13, 'blue': 6, 'red': 14},\n",
       " {'green': 12, 'blue': 8, 'red': 8},\n",
       " {'green': 12, 'blue': 4, 'red': 14},\n",
       " {'green': 11, 'blue': 2, 'red': 2},\n",
       " {'green': 13, 'blue': 12, 'red': 11},\n",
       " {'green': 16, 'blue': 5, 'red': 8},\n",
       " {'green': 10, 'blue': 20, 'red': 14},\n",
       " {'green': 18, 'blue': 5, 'red': 14},\n",
       " {'green': 4, 'blue': 13, 'red': 8},\n",
       " {'green': 6, 'blue': 9, 'red': 12},\n",
       " {'green': 3, 'blue': 1, 'red': 7},\n",
       " {'green': 13, 'blue': 12, 'red': 8},\n",
       " {'green': 16, 'blue': 5, 'red': 2},\n",
       " {'green': 8, 'blue': 14, 'red': 14},\n",
       " {'green': 5, 'blue': 3, 'red': 16},\n",
       " {'green': 2, 'blue': 3, 'red': 9},\n",
       " {'green': 4, 'blue': 15, 'red': 7},\n",
       " {'green': 11, 'blue': 14, 'red': 1},\n",
       " {'green': 13, 'blue': 9, 'red': 2},\n",
       " {'green': 2, 'blue': 4, 'red': 5},\n",
       " {'green': 4, 'blue': 6, 'red': 17},\n",
       " {'green': 14, 'blue': 2, 'red': 14}]"
      ]
     },
     "execution_count": 93,
     "metadata": {},
     "output_type": "execute_result"
    }
   ],
   "source": [
    "l = []\n",
    "\n",
    "for id in range(len(df)-1):\n",
    "    dict_color = {'green': 0 , 'blue': 0 , 'red': 0}\n",
    "\n",
    "    game = df[id].split(':')[1]\n",
    "    #number of game\n",
    "    game_number = df[id].split(':')[0].split(' ')[1]\n",
    "\n",
    "    sub_game = game.split(';')\n",
    "\n",
    "    for s_game in sub_game:\n",
    "        for i in s_game.split(','):\n",
    "\n",
    "            #color of obeserve\n",
    "            color = i.split(' ')[2]\n",
    "\n",
    "            #number of observe\n",
    "            number = int(i.split(' ')[1])\n",
    "\n",
    "            #update number of color\n",
    "            if dict_color[color] < number:\n",
    "                dict_color[color] = number\n",
    "    l.append(dict_color)\n",
    "l"
   ]
  },
  {
   "cell_type": "code",
   "execution_count": 97,
   "metadata": {},
   "outputs": [
    {
     "data": {
      "text/plain": [
       "{'green': 14, 'blue': 2, 'red': 14}"
      ]
     },
     "execution_count": 97,
     "metadata": {},
     "output_type": "execute_result"
    }
   ],
   "source": [
    "#12 red cubes, 13 green cubes, and 14 blue cubes"
   ]
  },
  {
   "cell_type": "code",
   "execution_count": 103,
   "metadata": {},
   "outputs": [
    {
     "data": {
      "text/plain": [
       "2486"
      ]
     },
     "execution_count": 103,
     "metadata": {},
     "output_type": "execute_result"
    }
   ],
   "source": [
    "sum_ids = 0\n",
    "\n",
    "for id , game in enumerate(l):\n",
    "\n",
    "    if game['red'] < 13 and game['green'] < 14 and game['blue'] < 15:\n",
    "        sum_ids += id + 1\n",
    "\n",
    "sum_ids\n"
   ]
  },
  {
   "cell_type": "code",
   "execution_count": 104,
   "metadata": {},
   "outputs": [
    {
     "data": {
      "text/plain": [
       "87984"
      ]
     },
     "execution_count": 104,
     "metadata": {},
     "output_type": "execute_result"
    }
   ],
   "source": [
    "add_up = 0\n",
    "for id , game in enumerate(l):\n",
    "    multiplic = game['red'] * game ['green'] * game['blue']\n",
    "    add_up += multiplic\n",
    "\n",
    "add_up"
   ]
  },
  {
   "cell_type": "code",
   "execution_count": null,
   "metadata": {},
   "outputs": [],
   "source": []
  }
 ],
 "metadata": {
  "kernelspec": {
   "display_name": "lewagon",
   "language": "python",
   "name": "python3"
  },
  "language_info": {
   "codemirror_mode": {
    "name": "ipython",
    "version": 3
   },
   "file_extension": ".py",
   "mimetype": "text/x-python",
   "name": "python",
   "nbconvert_exporter": "python",
   "pygments_lexer": "ipython3",
   "version": "3.10.6"
  }
 },
 "nbformat": 4,
 "nbformat_minor": 2
}
